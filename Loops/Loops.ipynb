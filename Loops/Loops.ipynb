{
 "cells": [
  {
   "cell_type": "markdown",
   "metadata": {},
   "source": [
    "#### More on Loops\n",
    "##### For Loops"
   ]
  },
  {
   "cell_type": "code",
   "execution_count": 1,
   "metadata": {},
   "outputs": [
    {
     "name": "stdout",
     "output_type": "stream",
     "text": [
      "a\n",
      "b\n",
      "c\n",
      "d\n"
     ]
    }
   ],
   "source": [
    "s = \"abcd\"\n",
    "\n",
    "for c in s:\n",
    "    print(c)"
   ]
  },
  {
   "cell_type": "code",
   "execution_count": 6,
   "metadata": {},
   "outputs": [
    {
     "name": "stdout",
     "output_type": "stream",
     "text": [
      "0\n",
      "1\n",
      "2\n",
      "3\n"
     ]
    }
   ],
   "source": [
    "# print first n natural numbers\n",
    "\n",
    "n = int(input())\n",
    "\n",
    "for i in range(n):\n",
    "    print(i)\n",
    "    i = i + 1"
   ]
  },
  {
   "cell_type": "code",
   "execution_count": 11,
   "metadata": {},
   "outputs": [
    {
     "name": "stdout",
     "output_type": "stream",
     "text": [
      "1\n",
      "2\n",
      "3\n",
      "4\n",
      "5\n"
     ]
    }
   ],
   "source": [
    "#print num from 1 to n\n",
    "#giving all 3 values for range, start, end and step\n",
    "n = int(input())\n",
    "\n",
    "for i in range(1,n+1,1):\n",
    "    print(i)"
   ]
  },
  {
   "cell_type": "code",
   "execution_count": 12,
   "metadata": {},
   "outputs": [
    {
     "name": "stdout",
     "output_type": "stream",
     "text": [
      "0\n",
      "1\n",
      "2\n",
      "3\n",
      "4\n"
     ]
    }
   ],
   "source": [
    "#print num from 0 to n(by default 0 for start and 1 for step)\n",
    "n = int(input())\n",
    "for i in range(n+1):\n",
    "    print(i)"
   ]
  },
  {
   "cell_type": "code",
   "execution_count": 13,
   "metadata": {},
   "outputs": [
    {
     "name": "stdout",
     "output_type": "stream",
     "text": [
      "1\n",
      "2\n",
      "3\n",
      "4\n"
     ]
    }
   ],
   "source": [
    "n = int(input())\n",
    "for i in range(1, n+1):\n",
    "    print(i)"
   ]
  },
  {
   "cell_type": "code",
   "execution_count": 15,
   "metadata": {},
   "outputs": [
    {
     "name": "stdout",
     "output_type": "stream",
     "text": [
      "4\n",
      "3\n",
      "2\n",
      "1\n"
     ]
    }
   ],
   "source": [
    "# Print n to 1\n",
    "n = int(input())\n",
    "for i in range(n,0,-1):\n",
    "    print(i)"
   ]
  },
  {
   "cell_type": "code",
   "execution_count": 16,
   "metadata": {},
   "outputs": [
    {
     "name": "stdout",
     "output_type": "stream",
     "text": [
      "13"
     ]
    }
   ],
   "source": [
    "for i in range(1,5,2):\n",
    "    print(i,end=\"\")"
   ]
  },
  {
   "cell_type": "code",
   "execution_count": 17,
   "metadata": {},
   "outputs": [
    {
     "name": "stdout",
     "output_type": "stream",
     "text": [
      "01234"
     ]
    }
   ],
   "source": [
    "for i in range(5):\n",
    "    print(i,end=\"\")"
   ]
  },
  {
   "cell_type": "code",
   "execution_count": 21,
   "metadata": {},
   "outputs": [
    {
     "name": "stdout",
     "output_type": "stream",
     "text": [
      "3\n",
      "6\n",
      "9\n"
     ]
    }
   ],
   "source": [
    "# Print multiples of 3 where a < b\n",
    "a = int(input())\n",
    "b = int(input())\n",
    "\n",
    "for i in range(3,b+1,3):\n",
    "    print(i)"
   ]
  },
  {
   "cell_type": "code",
   "execution_count": 22,
   "metadata": {},
   "outputs": [
    {
     "name": "stdout",
     "output_type": "stream",
     "text": [
      "27\n",
      "30\n",
      "33\n",
      "36\n",
      "39\n",
      "42\n",
      "45\n",
      "48\n",
      "51\n",
      "54\n",
      "57\n",
      "60\n",
      "63\n",
      "66\n",
      "69\n",
      "72\n",
      "75\n"
     ]
    }
   ],
   "source": [
    "# a < b \n",
    "a = int(input())\n",
    "b = int(input())\n",
    "\n",
    "if a % 3 == 0:\n",
    "    s = a\n",
    "elif a % 3 == 1:\n",
    "    s = a + 2\n",
    "else:\n",
    "    s = a + 1\n",
    "\n",
    "for i in range(s,b+1,3):\n",
    "    print(i)"
   ]
  },
  {
   "cell_type": "code",
   "execution_count": 25,
   "metadata": {},
   "outputs": [
    {
     "name": "stdout",
     "output_type": "stream",
     "text": [
      "Prime\n"
     ]
    }
   ],
   "source": [
    "# Check if a number is a prime or not\n",
    "n = int(input())\n",
    "flag = False\n",
    "for d in range(2,n,1):\n",
    "    if n % d == 0:\n",
    "        flag = True\n",
    "if flag:\n",
    "    print(\"Not a Prime\")\n",
    "else:\n",
    "    print(\"Prime\")\n",
    "    "
   ]
  },
  {
   "cell_type": "markdown",
   "metadata": {},
   "source": [
    "#Pattern\n",
    "     1\n",
    "    232\n",
    "   34543\n",
    "  4567554\n",
    "\n",
    "Spaces ---> n - i\n",
    "increasing ---> i .... 2i-1, 1\n",
    "decreasing ---> 2i-2....i, -1"
   ]
  },
  {
   "cell_type": "code",
   "execution_count": 32,
   "metadata": {},
   "outputs": [
    {
     "name": "stdout",
     "output_type": "stream",
     "text": [
      "   1\n",
      "  232\n",
      " 34543\n",
      "4567654\n"
     ]
    }
   ],
   "source": [
    "#Pattern using for loop\n",
    "n = int(input())\n",
    "for i in range(1, n + 1, 1):\n",
    "    for s in range(n-i):\n",
    "        print(\" \",end='')\n",
    "    for j in range(i, 2 * i, 1):\n",
    "        print(j, end='')\n",
    "    for j in range(2 * i - 2, i-1, -1):\n",
    "        print(j, end='')\n",
    "    print()\n",
    "    \n",
    "    "
   ]
  },
  {
   "cell_type": "code",
   "execution_count": 34,
   "metadata": {},
   "outputs": [
    {
     "name": "stdout",
     "output_type": "stream",
     "text": [
      "1\n",
      "2\n",
      "3\n",
      "4\n"
     ]
    }
   ],
   "source": [
    "# Break function\n",
    "\n",
    "i = 1\n",
    "while i < 10:\n",
    "    if i == 5:\n",
    "        break\n",
    "    print(i)\n",
    "    i = i + 1"
   ]
  },
  {
   "cell_type": "code",
   "execution_count": 39,
   "metadata": {},
   "outputs": [
    {
     "name": "stdout",
     "output_type": "stream",
     "text": [
      "Not a Prime\n"
     ]
    }
   ],
   "source": [
    "# Check if a number is a prime or not\n",
    "n = int(input())\n",
    "flag = False\n",
    "for d in range(2,n,1):\n",
    "    if n % d == 0:\n",
    "        flag = True\n",
    "        break\n",
    "if flag:\n",
    "    print(\"Not a Prime\")\n",
    "else:\n",
    "    print(\"Prime\")\n",
    "    "
   ]
  },
  {
   "cell_type": "code",
   "execution_count": 40,
   "metadata": {},
   "outputs": [
    {
     "name": "stdout",
     "output_type": "stream",
     "text": [
      "2\n",
      "3\n",
      "5\n",
      "7\n"
     ]
    }
   ],
   "source": [
    "# print all the prime number from 2 to n:\n",
    "n = int(input())\n",
    "k = 2\n",
    "while k <= n:\n",
    "    d = 2\n",
    "    flag = False\n",
    "    while d < k:\n",
    "        if k % d == 0:\n",
    "            flag = True\n",
    "            break\n",
    "        d = d + 1\n",
    "    if (not(flag)):\n",
    "        print(k)\n",
    "    k = k + 1\n",
    "            "
   ]
  },
  {
   "cell_type": "code",
   "execution_count": 41,
   "metadata": {},
   "outputs": [
    {
     "name": "stdout",
     "output_type": "stream",
     "text": [
      "12"
     ]
    }
   ],
   "source": [
    "i = 1\n",
    "while i<5:\n",
    "    if i == 3:\n",
    "        break\n",
    "    print(i,end=\"\")\n",
    "    i = i + 1"
   ]
  },
  {
   "cell_type": "code",
   "execution_count": 42,
   "metadata": {},
   "outputs": [
    {
     "name": "stdout",
     "output_type": "stream",
     "text": [
      "1212"
     ]
    }
   ],
   "source": [
    "i = 1\n",
    "while i < 3:\n",
    "    j = 1\n",
    "    while j < 5:\n",
    "        if j == 3:\n",
    "            break\n",
    "        print(j,end=\"\")\n",
    "        j = j + 1\n",
    "    i = i + 1"
   ]
  },
  {
   "cell_type": "code",
   "execution_count": 2,
   "metadata": {},
   "outputs": [
    {
     "name": "stdout",
     "output_type": "stream",
     "text": [
      "1\n",
      "2\n",
      "3\n",
      "4\n",
      "5\n",
      "6\n",
      "7\n",
      "8\n",
      "9\n",
      "Reached the upper limit\n"
     ]
    }
   ],
   "source": [
    "# Else inside for loops\n",
    "i = 1\n",
    "while i < 10:\n",
    "    print(i)\n",
    "    i = i + 1\n",
    "else:\n",
    "    print(\"Reached the upper limit\")"
   ]
  },
  {
   "cell_type": "code",
   "execution_count": 3,
   "metadata": {},
   "outputs": [
    {
     "name": "stdout",
     "output_type": "stream",
     "text": [
      "1\n",
      "2\n",
      "3\n",
      "4\n",
      "5\n",
      "6\n",
      "7\n",
      "8\n",
      "9\n",
      "Reached the upper limit\n"
     ]
    }
   ],
   "source": [
    "for i in range(1,10):\n",
    "    print(i)\n",
    "    i = i + 1\n",
    "else:\n",
    "    print(\"Reached the upper limit\")"
   ]
  },
  {
   "cell_type": "code",
   "execution_count": 5,
   "metadata": {},
   "outputs": [
    {
     "name": "stdout",
     "output_type": "stream",
     "text": [
      "1\n",
      "2\n",
      "3\n",
      "4\n"
     ]
    }
   ],
   "source": [
    "for i in range(1,10):\n",
    "    if i == 5:\n",
    "        break    \n",
    "    print(i)\n",
    "    i = i + 1\n",
    "else:\n",
    "    print(\"Reached the upper limit\")"
   ]
  },
  {
   "cell_type": "code",
   "execution_count": 7,
   "metadata": {},
   "outputs": [
    {
     "name": "stdout",
     "output_type": "stream",
     "text": [
      "prime number\n"
     ]
    }
   ],
   "source": [
    "# Check if a number is a prime or not\n",
    "n = int(input())\n",
    "for d in range(2,n,1):\n",
    "    if n % d == 0:\n",
    "        break\n",
    "else:\n",
    "    print(\"prime number\")\n",
    "    "
   ]
  },
  {
   "cell_type": "code",
   "execution_count": 8,
   "metadata": {},
   "outputs": [
    {
     "name": "stdout",
     "output_type": "stream",
     "text": [
      "1234Else is also printed\n"
     ]
    }
   ],
   "source": [
    "i = 1\n",
    "while i < 5:\n",
    "    if i == 6:\n",
    "        break\n",
    "    print(i,end=\"\")\n",
    "    i = i + 1\n",
    "else:\n",
    "    print(\"Else is also printed\")"
   ]
  },
  {
   "cell_type": "code",
   "execution_count": 9,
   "metadata": {},
   "outputs": [
    {
     "name": "stdout",
     "output_type": "stream",
     "text": [
      "12"
     ]
    }
   ],
   "source": [
    "i = 1\n",
    "while i < 5:\n",
    "    if i == 3:\n",
    "        break\n",
    "    print(i,end=\"\")\n",
    "    i = i + 1\n",
    "else:\n",
    "    print(\"Else is also printed\")"
   ]
  },
  {
   "cell_type": "code",
   "execution_count": 14,
   "metadata": {},
   "outputs": [
    {
     "name": "stdout",
     "output_type": "stream",
     "text": [
      "1\n",
      "10\n",
      "28\n",
      "37\n",
      "46\n",
      "55\n",
      "64\n",
      "73\n",
      "82\n",
      "91\n",
      "100\n"
     ]
    }
   ],
   "source": [
    "# Continue Keyword\n",
    "for i in range(1,101,9):\n",
    "    if i == 19:\n",
    "        continue\n",
    "    print(i)"
   ]
  },
  {
   "cell_type": "code",
   "execution_count": 18,
   "metadata": {},
   "outputs": [
    {
     "name": "stdout",
     "output_type": "stream",
     "text": [
      "1\n",
      "7\n",
      "13\n",
      "19\n",
      "25\n",
      "31\n",
      "37\n",
      "43\n",
      "49\n",
      "55\n",
      "61\n",
      "67\n",
      "73\n",
      "79\n",
      "85\n",
      "91\n",
      "97\n"
     ]
    }
   ],
   "source": [
    "for i in range(1,101,3):\n",
    "    if i % 2 == 0:\n",
    "        continue\n",
    "    print(i)"
   ]
  },
  {
   "cell_type": "code",
   "execution_count": 22,
   "metadata": {},
   "outputs": [
    {
     "name": "stdout",
     "output_type": "stream",
     "text": [
      "2\n",
      "4\n",
      "6\n",
      "8\n",
      "10\n",
      "12\n",
      "16\n",
      "18\n",
      "20\n",
      "22\n",
      "24\n",
      "26\n",
      "30\n",
      "32\n",
      "34\n",
      "36\n",
      "38\n",
      "40\n",
      "44\n",
      "46\n",
      "48\n",
      "50\n"
     ]
    }
   ],
   "source": [
    "# print all the even numbers except multiple of 7\n",
    "n = int(input())\n",
    "for i in range(2,n+1,2):\n",
    "    if i % 7 == 0:\n",
    "        continue\n",
    "    print(i)\n"
   ]
  },
  {
   "cell_type": "code",
   "execution_count": 23,
   "metadata": {},
   "outputs": [
    {
     "name": "stdout",
     "output_type": "stream",
     "text": [
      "2\n",
      "2\n",
      "4\n",
      "4\n",
      "6\n",
      "6\n",
      "8\n",
      "8\n",
      "10\n",
      "10\n",
      "12\n",
      "12\n",
      "14\n",
      "16\n",
      "16\n",
      "18\n",
      "18\n",
      "20\n",
      "20\n",
      "22\n",
      "22\n",
      "24\n",
      "24\n",
      "26\n",
      "26\n",
      "28\n",
      "30\n",
      "30\n",
      "32\n",
      "32\n",
      "34\n",
      "34\n",
      "36\n",
      "36\n",
      "38\n",
      "38\n",
      "40\n",
      "40\n"
     ]
    }
   ],
   "source": [
    "# print all even numbers twice and multiple of 7 once\n",
    "n = int(input())\n",
    "for i in range(2,n+1,2):\n",
    "    print(i)\n",
    "    if i % 7 == 0:\n",
    "        continue\n",
    "    print(i)"
   ]
  },
  {
   "cell_type": "code",
   "execution_count": 30,
   "metadata": {},
   "outputs": [
    {
     "name": "stdout",
     "output_type": "stream",
     "text": [
      "2\n",
      "2\n",
      "4\n",
      "4\n",
      "6\n",
      "6\n",
      "8\n",
      "8\n",
      "10\n",
      "10\n",
      "12\n",
      "12\n",
      "14\n",
      "16\n",
      "16\n",
      "18\n",
      "18\n",
      "20\n",
      "20\n"
     ]
    }
   ],
   "source": [
    "# while loop\n",
    "n = int(input())\n",
    "i = 2\n",
    "while i <= n:\n",
    "    print(i)\n",
    "    if i % 7 == 0:\n",
    "        i = i + 2\n",
    "        continue\n",
    "    print(i)\n",
    "    i = i + 2"
   ]
  },
  {
   "cell_type": "code",
   "execution_count": 31,
   "metadata": {},
   "outputs": [
    {
     "name": "stdout",
     "output_type": "stream",
     "text": [
      "1 \n",
      "2 \n"
     ]
    },
    {
     "ename": "KeyboardInterrupt",
     "evalue": "",
     "output_type": "error",
     "traceback": [
      "\u001b[1;31m---------------------------------------------------------------------------\u001b[0m",
      "\u001b[1;31mKeyboardInterrupt\u001b[0m                         Traceback (most recent call last)",
      "\u001b[1;32mC:\\Users\\KUMARA~1\\AppData\\Local\\Temp/ipykernel_11852/1424248247.py\u001b[0m in \u001b[0;36m<module>\u001b[1;34m\u001b[0m\n\u001b[0;32m      2\u001b[0m \u001b[1;32mwhile\u001b[0m \u001b[0mi\u001b[0m \u001b[1;33m<\u001b[0m \u001b[1;36m5\u001b[0m\u001b[1;33m:\u001b[0m\u001b[1;33m\u001b[0m\u001b[1;33m\u001b[0m\u001b[0m\n\u001b[0;32m      3\u001b[0m     \u001b[1;32mif\u001b[0m \u001b[0mi\u001b[0m \u001b[1;33m==\u001b[0m \u001b[1;36m3\u001b[0m\u001b[1;33m:\u001b[0m\u001b[1;33m\u001b[0m\u001b[1;33m\u001b[0m\u001b[0m\n\u001b[1;32m----> 4\u001b[1;33m         \u001b[1;32mcontinue\u001b[0m\u001b[1;33m\u001b[0m\u001b[1;33m\u001b[0m\u001b[0m\n\u001b[0m\u001b[0;32m      5\u001b[0m     \u001b[0mprint\u001b[0m\u001b[1;33m(\u001b[0m\u001b[0mi\u001b[0m\u001b[1;33m,\u001b[0m \u001b[1;34m\"\"\u001b[0m\u001b[1;33m)\u001b[0m\u001b[1;33m\u001b[0m\u001b[1;33m\u001b[0m\u001b[0m\n\u001b[0;32m      6\u001b[0m     \u001b[0mi\u001b[0m \u001b[1;33m=\u001b[0m \u001b[0mi\u001b[0m \u001b[1;33m+\u001b[0m \u001b[1;36m1\u001b[0m\u001b[1;33m\u001b[0m\u001b[1;33m\u001b[0m\u001b[0m\n",
      "\u001b[1;31mKeyboardInterrupt\u001b[0m: "
     ]
    }
   ],
   "source": [
    "i = 1\n",
    "while i < 5:\n",
    "    if i == 3:\n",
    "        continue\n",
    "    print(i, \"\")\n",
    "    i = i + 1"
   ]
  },
  {
   "cell_type": "code",
   "execution_count": 32,
   "metadata": {},
   "outputs": [
    {
     "name": "stdout",
     "output_type": "stream",
     "text": [
      "12451245"
     ]
    }
   ],
   "source": [
    "i = 1\n",
    "while i < 3:\n",
    "    j = 0\n",
    "    while j < 5:\n",
    "        j = j + 1\n",
    "        if j == 3:\n",
    "            continue\n",
    "        print(j,end = \"\")\n",
    "    i = i + 1"
   ]
  },
  {
   "cell_type": "code",
   "execution_count": 33,
   "metadata": {},
   "outputs": [
    {
     "name": "stdout",
     "output_type": "stream",
     "text": [
      "Hi\n"
     ]
    }
   ],
   "source": [
    "# Pass Statements:\n",
    "i = 3\n",
    "if i < 7:\n",
    "    pass\n",
    "print(\"Hi\")"
   ]
  },
  {
   "cell_type": "code",
   "execution_count": 34,
   "metadata": {},
   "outputs": [
    {
     "name": "stdout",
     "output_type": "stream",
     "text": [
      "end\n"
     ]
    }
   ],
   "source": [
    "i = 1\n",
    "while i <=3:\n",
    "    pass\n",
    "    i = i + 1\n",
    "print(\"end\")"
   ]
  },
  {
   "cell_type": "code",
   "execution_count": 35,
   "metadata": {},
   "outputs": [
    {
     "name": "stdout",
     "output_type": "stream",
     "text": [
      "write something later\n"
     ]
    }
   ],
   "source": [
    "for i in range(1,4):\n",
    "    pass\n",
    "print(\"write something later\")"
   ]
  },
  {
   "cell_type": "code",
   "execution_count": 51,
   "metadata": {},
   "outputs": [
    {
     "name": "stdout",
     "output_type": "stream",
     "text": [
      "1111\n",
      "000\n",
      "11\n",
      "0\n"
     ]
    }
   ],
   "source": [
    "#Binary Patern:\n",
    "#Pattern using for loop\n",
    "n = int(input())\n",
    "for i in range(1, n+1, 1):\n",
    "   for j in range(1,n-i+2,1):\n",
    "       if i % 2 != 0:\n",
    "           print('1',end='')\n",
    "\n",
    "       else:\n",
    "           print('0',end='')\n",
    "   print()\n",
    "    "
   ]
  },
  {
   "cell_type": "code",
   "execution_count": 73,
   "metadata": {},
   "outputs": [
    {
     "name": "stdout",
     "output_type": "stream",
     "text": [
      "123456\n",
      " 23456\n",
      "  3456\n",
      "   456\n",
      "    56\n",
      "     6\n",
      "    56\n",
      "   456\n",
      "  3456\n",
      " 23456\n",
      "123456\n"
     ]
    }
   ],
   "source": [
    "# print Pyramid\n",
    "n = int(input())\n",
    "\n",
    "for i in range(1,n+1,1):\n",
    "    for sp in range(1,i,1):\n",
    "        print(' ',end='')\n",
    "    \n",
    "    for j in range(i,n+1,1):\n",
    "        print(j,end='')\n",
    "    print()\n",
    "    \n",
    "for i in range(n-1,0,-1):\n",
    "    for sp in range(1,i,1):\n",
    "        print(' ',end='')\n",
    "    \n",
    "    for j in range(i,n+1,1):\n",
    "        print(j,end='')\n",
    "    \n",
    "    print()\n",
    "    "
   ]
  },
  {
   "cell_type": "code",
   "execution_count": 89,
   "metadata": {},
   "outputs": [
    {
     "name": "stdout",
     "output_type": "stream",
     "text": [
      "  *\n",
      " ***\n",
      "*****\n",
      " ***\n",
      "  *\n"
     ]
    }
   ],
   "source": [
    "# Diamond Pattern\n",
    "\n",
    "n = int(input())\n",
    "m = n//2 + 1\n",
    "\n",
    "for i in range(1,m+1,1):\n",
    "    for sp in range(m-i):\n",
    "        print(\" \",end='')\n",
    "        \n",
    "    for j in range(2*i-1):\n",
    "        print(\"*\",end=\"\")\n",
    "    print()\n",
    "\n",
    "for i in range(1,m,1):\n",
    "    for sp in range(i):\n",
    "        print(\" \",end='')\n",
    "    \n",
    "    for j in range(1,n-2*i+1,1):\n",
    "        print('*',end='')\n",
    "    print()"
   ]
  }
 ],
 "metadata": {
  "interpreter": {
   "hash": "abcb0c5461076a4dd09cfc161e812ddf7e31459b36ea35c5b4c2030ec15799b2"
  },
  "kernelspec": {
   "display_name": "Python 3.10.1 64-bit",
   "language": "python",
   "name": "python3"
  },
  "language_info": {
   "codemirror_mode": {
    "name": "ipython",
    "version": 3
   },
   "file_extension": ".py",
   "mimetype": "text/x-python",
   "name": "python",
   "nbconvert_exporter": "python",
   "pygments_lexer": "ipython3",
   "version": "3.10.1"
  },
  "orig_nbformat": 4
 },
 "nbformat": 4,
 "nbformat_minor": 2
}
