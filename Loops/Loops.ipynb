{
 "cells": [
  {
   "cell_type": "markdown",
   "metadata": {},
   "source": [
    "#### More on Loops\n",
    "##### For Loops"
   ]
  },
  {
   "cell_type": "code",
   "execution_count": 1,
   "metadata": {},
   "outputs": [
    {
     "name": "stdout",
     "output_type": "stream",
     "text": [
      "a\n",
      "b\n",
      "c\n",
      "d\n"
     ]
    }
   ],
   "source": [
    "s = \"abcd\"\n",
    "\n",
    "for c in s:\n",
    "    print(c)"
   ]
  },
  {
   "cell_type": "code",
   "execution_count": 6,
   "metadata": {},
   "outputs": [
    {
     "name": "stdout",
     "output_type": "stream",
     "text": [
      "0\n",
      "1\n",
      "2\n",
      "3\n"
     ]
    }
   ],
   "source": [
    "# print first n natural numbers\n",
    "\n",
    "n = int(input())\n",
    "\n",
    "for i in range(n):\n",
    "    print(i)\n",
    "    i = i + 1"
   ]
  },
  {
   "cell_type": "code",
   "execution_count": 11,
   "metadata": {},
   "outputs": [
    {
     "name": "stdout",
     "output_type": "stream",
     "text": [
      "1\n",
      "2\n",
      "3\n",
      "4\n",
      "5\n"
     ]
    }
   ],
   "source": [
    "#print num from 1 to n\n",
    "#giving all 3 values for range, start, end and step\n",
    "n = int(input())\n",
    "\n",
    "for i in range(1,n+1,1):\n",
    "    print(i)"
   ]
  },
  {
   "cell_type": "code",
   "execution_count": 12,
   "metadata": {},
   "outputs": [
    {
     "name": "stdout",
     "output_type": "stream",
     "text": [
      "0\n",
      "1\n",
      "2\n",
      "3\n",
      "4\n"
     ]
    }
   ],
   "source": [
    "#print num from 0 to n(by default 0 for start and 1 for step)\n",
    "n = int(input())\n",
    "for i in range(n+1):\n",
    "    print(i)"
   ]
  },
  {
   "cell_type": "code",
   "execution_count": 13,
   "metadata": {},
   "outputs": [
    {
     "name": "stdout",
     "output_type": "stream",
     "text": [
      "1\n",
      "2\n",
      "3\n",
      "4\n"
     ]
    }
   ],
   "source": [
    "n = int(input())\n",
    "for i in range(1, n+1):\n",
    "    print(i)"
   ]
  },
  {
   "cell_type": "code",
   "execution_count": 15,
   "metadata": {},
   "outputs": [
    {
     "name": "stdout",
     "output_type": "stream",
     "text": [
      "4\n",
      "3\n",
      "2\n",
      "1\n"
     ]
    }
   ],
   "source": [
    "# Print n to 1\n",
    "n = int(input())\n",
    "for i in range(n,0,-1):\n",
    "    print(i)"
   ]
  },
  {
   "cell_type": "code",
   "execution_count": 16,
   "metadata": {},
   "outputs": [
    {
     "name": "stdout",
     "output_type": "stream",
     "text": [
      "13"
     ]
    }
   ],
   "source": [
    "for i in range(1,5,2):\n",
    "    print(i,end=\"\")"
   ]
  },
  {
   "cell_type": "code",
   "execution_count": 17,
   "metadata": {},
   "outputs": [
    {
     "name": "stdout",
     "output_type": "stream",
     "text": [
      "01234"
     ]
    }
   ],
   "source": [
    "for i in range(5):\n",
    "    print(i,end=\"\")"
   ]
  },
  {
   "cell_type": "code",
   "execution_count": 21,
   "metadata": {},
   "outputs": [
    {
     "name": "stdout",
     "output_type": "stream",
     "text": [
      "3\n",
      "6\n",
      "9\n"
     ]
    }
   ],
   "source": [
    "# Print multiples of 3 where a < b\n",
    "a = int(input())\n",
    "b = int(input())\n",
    "\n",
    "for i in range(3,b+1,3):\n",
    "    print(i)"
   ]
  },
  {
   "cell_type": "code",
   "execution_count": 22,
   "metadata": {},
   "outputs": [
    {
     "name": "stdout",
     "output_type": "stream",
     "text": [
      "27\n",
      "30\n",
      "33\n",
      "36\n",
      "39\n",
      "42\n",
      "45\n",
      "48\n",
      "51\n",
      "54\n",
      "57\n",
      "60\n",
      "63\n",
      "66\n",
      "69\n",
      "72\n",
      "75\n"
     ]
    }
   ],
   "source": [
    "# a < b \n",
    "a = int(input())\n",
    "b = int(input())\n",
    "\n",
    "if a % 3 == 0:\n",
    "    s = a\n",
    "elif a % 3 == 1:\n",
    "    s = a + 2\n",
    "else:\n",
    "    s = a + 1\n",
    "\n",
    "for i in range(s,b+1,3):\n",
    "    print(i)"
   ]
  },
  {
   "cell_type": "code",
   "execution_count": 25,
   "metadata": {},
   "outputs": [
    {
     "name": "stdout",
     "output_type": "stream",
     "text": [
      "Prime\n"
     ]
    }
   ],
   "source": [
    "# Check if a number is a prime or not\n",
    "n = int(input())\n",
    "flag = False\n",
    "for d in range(2,n,1):\n",
    "    if n % d == 0:\n",
    "        flag = True\n",
    "if flag:\n",
    "    print(\"Not a Prime\")\n",
    "else:\n",
    "    print(\"Prime\")\n",
    "    "
   ]
  },
  {
   "cell_type": "markdown",
   "metadata": {},
   "source": [
    "#Pattern\n",
    "     1\n",
    "    232\n",
    "   34543\n",
    "  4567554\n",
    "\n",
    "Spaces ---> n - i\n",
    "increasing ---> i .... 2i-1, 1\n",
    "decreasing ---> 2i-2....i, -1"
   ]
  },
  {
   "cell_type": "code",
   "execution_count": 32,
   "metadata": {},
   "outputs": [
    {
     "name": "stdout",
     "output_type": "stream",
     "text": [
      "   1\n",
      "  232\n",
      " 34543\n",
      "4567654\n"
     ]
    }
   ],
   "source": [
    "#Pattern using for loop\n",
    "n = int(input())\n",
    "for i in range(1, n + 1, 1):\n",
    "    for s in range(n-i):\n",
    "        print(\" \",end='')\n",
    "    for j in range(i, 2 * i, 1):\n",
    "        print(j, end='')\n",
    "    for j in range(2 * i - 2, i-1, -1):\n",
    "        print(j, end='')\n",
    "    print()\n",
    "    \n",
    "    "
   ]
  },
  {
   "cell_type": "code",
   "execution_count": 34,
   "metadata": {},
   "outputs": [
    {
     "name": "stdout",
     "output_type": "stream",
     "text": [
      "1\n",
      "2\n",
      "3\n",
      "4\n"
     ]
    }
   ],
   "source": [
    "# Break function\n",
    "\n",
    "i = 1\n",
    "while i < 10:\n",
    "    if i == 5:\n",
    "        break\n",
    "    print(i)\n",
    "    i = i + 1"
   ]
  },
  {
   "cell_type": "code",
   "execution_count": 39,
   "metadata": {},
   "outputs": [
    {
     "name": "stdout",
     "output_type": "stream",
     "text": [
      "Not a Prime\n"
     ]
    }
   ],
   "source": [
    "# Check if a number is a prime or not\n",
    "n = int(input())\n",
    "flag = False\n",
    "for d in range(2,n,1):\n",
    "    if n % d == 0:\n",
    "        flag = True\n",
    "        break\n",
    "if flag:\n",
    "    print(\"Not a Prime\")\n",
    "else:\n",
    "    print(\"Prime\")\n",
    "    "
   ]
  },
  {
   "cell_type": "code",
   "execution_count": 40,
   "metadata": {},
   "outputs": [
    {
     "name": "stdout",
     "output_type": "stream",
     "text": [
      "2\n",
      "3\n",
      "5\n",
      "7\n"
     ]
    }
   ],
   "source": [
    "# print all the prime number from 2 to n:\n",
    "n = int(input())\n",
    "k = 2\n",
    "while k <= n:\n",
    "    d = 2\n",
    "    flag = False\n",
    "    while d < k:\n",
    "        if k % d == 0:\n",
    "            flag = True\n",
    "            break\n",
    "        d = d + 1\n",
    "    if (not(flag)):\n",
    "        print(k)\n",
    "    k = k + 1\n",
    "            "
   ]
  },
  {
   "cell_type": "code",
   "execution_count": 41,
   "metadata": {},
   "outputs": [
    {
     "name": "stdout",
     "output_type": "stream",
     "text": [
      "12"
     ]
    }
   ],
   "source": [
    "i = 1\n",
    "while i<5:\n",
    "    if i == 3:\n",
    "        break\n",
    "    print(i,end=\"\")\n",
    "    i = i + 1"
   ]
  },
  {
   "cell_type": "code",
   "execution_count": 42,
   "metadata": {},
   "outputs": [
    {
     "name": "stdout",
     "output_type": "stream",
     "text": [
      "1212"
     ]
    }
   ],
   "source": [
    "i = 1\n",
    "while i < 3:\n",
    "    j = 1\n",
    "    while j < 5:\n",
    "        if j == 3:\n",
    "            break\n",
    "        print(j,end=\"\")\n",
    "        j = j + 1\n",
    "    i = i + 1"
   ]
  },
  {
   "cell_type": "code",
   "execution_count": null,
   "metadata": {},
   "outputs": [],
   "source": []
  }
 ],
 "metadata": {
  "interpreter": {
   "hash": "abcb0c5461076a4dd09cfc161e812ddf7e31459b36ea35c5b4c2030ec15799b2"
  },
  "kernelspec": {
   "display_name": "Python 3.10.1 64-bit",
   "language": "python",
   "name": "python3"
  },
  "language_info": {
   "codemirror_mode": {
    "name": "ipython",
    "version": 3
   },
   "file_extension": ".py",
   "mimetype": "text/x-python",
   "name": "python",
   "nbconvert_exporter": "python",
   "pygments_lexer": "ipython3",
   "version": "3.10.1"
  },
  "orig_nbformat": 4
 },
 "nbformat": 4,
 "nbformat_minor": 2
}
