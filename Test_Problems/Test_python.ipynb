{
 "cells": [
  {
   "cell_type": "code",
   "execution_count": 17,
   "metadata": {},
   "outputs": [
    {
     "name": "stdout",
     "output_type": "stream",
     "text": [
      "5432*\n",
      "543*1\n",
      "54*21\n",
      "5*321\n",
      "*4321\n"
     ]
    }
   ],
   "source": [
    "n = int(input())\n",
    "\n",
    "for i in range(1, n+1):\n",
    "    for j in range(n, 0, -1):\n",
    "        if(i == j):\n",
    "           print(\"*\", end=\"\")\n",
    "        else:\n",
    "           print(j, end=\"\")\n",
    "    print()"
   ]
  },
  {
   "cell_type": "code",
   "execution_count": 18,
   "metadata": {},
   "outputs": [
    {
     "name": "stdout",
     "output_type": "stream",
     "text": [
      "*0000*0000*\n",
      "0*000*000*0\n",
      "00*00*00*00\n",
      "000*0*0*000\n",
      "0000***0000\n"
     ]
    }
   ],
   "source": [
    "n = int(input())\n",
    "rows = 2*n + 1\n",
    "i = 1\n",
    "\n",
    "while i <= n:\n",
    "    j = 1\n",
    "    while j <= rows:\n",
    "        if(j == i or j == (rows // 2 + 1) or j == rows - i +1):\n",
    "            print('*',end = '')\n",
    "            \n",
    "        else:\n",
    "            print('0',end = '')\n",
    "\n",
    "        j = j + 1\n",
    "        \n",
    "    print()\n",
    "    i = i + 1"
   ]
  },
  {
   "cell_type": "code",
   "execution_count": null,
   "metadata": {},
   "outputs": [],
   "source": []
  }
 ],
 "metadata": {
  "kernelspec": {
   "display_name": "Python 3.10.1 64-bit",
   "language": "python",
   "name": "python3"
  },
  "language_info": {
   "codemirror_mode": {
    "name": "ipython",
    "version": 3
   },
   "file_extension": ".py",
   "mimetype": "text/x-python",
   "name": "python",
   "nbconvert_exporter": "python",
   "pygments_lexer": "ipython3",
   "version": "3.10.1"
  },
  "orig_nbformat": 4,
  "vscode": {
   "interpreter": {
    "hash": "abcb0c5461076a4dd09cfc161e812ddf7e31459b36ea35c5b4c2030ec15799b2"
   }
  }
 },
 "nbformat": 4,
 "nbformat_minor": 2
}
