{
 "cells": [
  {
   "cell_type": "markdown",
   "metadata": {},
   "source": [
    "### Inverted Patterns"
   ]
  },
  {
   "cell_type": "code",
   "execution_count": 1,
   "metadata": {},
   "outputs": [
    {
     "name": "stdout",
     "output_type": "stream",
     "text": [
      "****\n",
      "***\n",
      "**\n",
      "*\n"
     ]
    }
   ],
   "source": [
    "n = int(input())\n",
    "i = 1\n",
    "\n",
    "while i <= n:\n",
    "    j = 1\n",
    "    while j <= n - i + 1:\n",
    "        print('*',end=\"\")\n",
    "        j = j + 1\n",
    "    print()\n",
    "    i = i + 1\n"
   ]
  },
  {
   "cell_type": "code",
   "execution_count": 6,
   "metadata": {},
   "outputs": [
    {
     "name": "stdout",
     "output_type": "stream",
     "text": [
      "4444\n",
      "333\n",
      "22\n",
      "1\n"
     ]
    }
   ],
   "source": [
    "n = int(input())\n",
    "i = 1\n",
    "\n",
    "while i <= n:\n",
    "    j = 1\n",
    "    while j <= n - i + 1:\n",
    "        print(n-i+1,end=\"\")\n",
    "        j = j + 1\n",
    "    print()\n",
    "    i = i + 1"
   ]
  },
  {
   "cell_type": "code",
   "execution_count": 9,
   "metadata": {},
   "outputs": [
    {
     "name": "stdout",
     "output_type": "stream",
     "text": [
      "   *\n",
      "  **\n",
      " ***\n",
      "****\n"
     ]
    }
   ],
   "source": [
    "n = int(input())\n",
    "i = 1\n",
    "\n",
    "while i <= n:\n",
    "    spaces = 1\n",
    "    while spaces <= n - i:\n",
    "        print(' ', end = '')\n",
    "        spaces = spaces + 1\n",
    "    stars = 1\n",
    "    while stars <= i:\n",
    "        print(\"*\",end=\"\")\n",
    "        stars = stars + 1\n",
    "    print()\n",
    "    i = i + 1\n",
    "        "
   ]
  },
  {
   "cell_type": "code",
   "execution_count": 51,
   "metadata": {},
   "outputs": [
    {
     "name": "stdout",
     "output_type": "stream",
     "text": [
      "   1\n",
      "  12\n",
      " 123\n",
      "1234\n"
     ]
    }
   ],
   "source": [
    "n = int(input())\n",
    "i = 1\n",
    "\n",
    "while i <= n:\n",
    "    spaces = 1\n",
    "    while spaces <= n - i:\n",
    "        print(' ', end = '')\n",
    "        spaces = spaces + 1\n",
    "    j = 1\n",
    "    p = 1\n",
    "    while j<= i:\n",
    "        print(p,end=\"\")\n",
    "        j = j + 1\n",
    "        p = p + 1\n",
    "    print()\n",
    "    i = i + 1"
   ]
  },
  {
   "cell_type": "code",
   "execution_count": 1,
   "metadata": {},
   "outputs": [
    {
     "name": "stdout",
     "output_type": "stream",
     "text": [
      "    1\n",
      "   121\n",
      "  12321\n",
      " 1234321\n",
      "123454321\n"
     ]
    }
   ],
   "source": [
    "n = int(input())\n",
    "i = 1\n",
    "\n",
    "while i <= n:\n",
    "    j = 1\n",
    "    while j <= n - i:\n",
    "        print(' ', end = '')\n",
    "        j= j + 1\n",
    "    j = 1\n",
    "    p = 1\n",
    "    while j<= i:\n",
    "        print(p,end=\"\")\n",
    "        j = j + 1\n",
    "        p = p + 1\n",
    "    p = i - 1\n",
    "    while p >= 1:\n",
    "        print(p, end=\"\")\n",
    "        p = p - 1\n",
    "    print()\n",
    "    i = i + 1"
   ]
  },
  {
   "cell_type": "code",
   "execution_count": 64,
   "metadata": {},
   "outputs": [
    {
     "name": "stdout",
     "output_type": "stream",
     "text": [
      "   *\n",
      "  ***\n",
      " *****\n",
      "*******\n"
     ]
    }
   ],
   "source": [
    "n = int(input())\n",
    "i = 1\n",
    "\n",
    "while i <= n:\n",
    "    j = 1\n",
    "    while j <= n - i:\n",
    "        print(' ', end = '')\n",
    "        j= j + 1\n",
    "    j = 1\n",
    "    while j<= i:\n",
    "        print('*',end=\"\")\n",
    "        j = j + 1\n",
    "    p = i - 1\n",
    "    while p >= 1:\n",
    "        print('*', end=\"\")\n",
    "        p = p - 1\n",
    "    print()\n",
    "    i = i + 1"
   ]
  },
  {
   "cell_type": "code",
   "execution_count": 68,
   "metadata": {},
   "outputs": [
    {
     "name": "stdout",
     "output_type": "stream",
     "text": [
      "   1\n",
      "  232\n",
      " 34543\n",
      "4567654\n"
     ]
    }
   ],
   "source": [
    "n = int(input())\n",
    "i = 1\n",
    "\n",
    "while i <= n:\n",
    "    j = 1\n",
    "    while j <= n - i:\n",
    "        print(' ', end = '')\n",
    "        j= j + 1\n",
    "    j = 1\n",
    "    p = 1\n",
    "    while j<= i:\n",
    "        print(p+i-1,end=\"\")\n",
    "        j = j + 1\n",
    "        p = p + 1\n",
    "    p = i - 1\n",
    "    while p >= 1:\n",
    "        print(p+i-1, end=\"\")\n",
    "        p = p - 1\n",
    "    print()\n",
    "    i = i + 1"
   ]
  },
  {
   "cell_type": "code",
   "execution_count": 76,
   "metadata": {},
   "outputs": [
    {
     "name": "stdout",
     "output_type": "stream",
     "text": [
      "   *\n",
      "  ***\n",
      " *****\n",
      "*******\n",
      " *****\n",
      "  ***\n",
      "   *\n"
     ]
    }
   ],
   "source": [
    "n = int(input())\n",
    "i = 1\n",
    "f = (n+1) // 2\n",
    "s = n//2\n",
    "\n",
    "while i <= f:\n",
    "    j = 1\n",
    "    while j <= f - i:\n",
    "        print(' ', end = '')\n",
    "        j= j + 1\n",
    "    j = 1\n",
    "    while j<= (2 * i)-1:\n",
    "        print('*',end=\"\")\n",
    "        j = j + 1\n",
    "    print()\n",
    "    i = i + 1\n",
    "    \n",
    "i = s\n",
    "while i >= 1:\n",
    "    j = 1\n",
    "    while j <= (s - i) + 1:\n",
    "        print(\" \", end = '')\n",
    "        j = j + 1\n",
    "    j = 1\n",
    "    while j <= (2*i)-1:\n",
    "        print(\"*\",end=\"\")\n",
    "        j = j + 1\n",
    "    print()\n",
    "    i = i -1"
   ]
  },
  {
   "cell_type": "code",
   "execution_count": 12,
   "metadata": {},
   "outputs": [
    {
     "name": "stdout",
     "output_type": "stream",
     "text": [
      "   1\n",
      "  212\n",
      " 32123\n",
      "4321234\n"
     ]
    }
   ],
   "source": [
    "n = int(input())\n",
    "i = 1\n",
    "\n",
    "while i <= n:\n",
    "    sp = 1\n",
    "    while sp <= n-i:\n",
    "        print(' ',end ='')\n",
    "        sp = sp + 1\n",
    "        \n",
    "    p = i\n",
    "    j = 1\n",
    "    \n",
    "    while j <= i:\n",
    "        print(p, end ='')\n",
    "        p = p - 1\n",
    "        j = j + 1\n",
    "        \n",
    "    p = 2\n",
    "    while p <= i:\n",
    "        print(p, end ='')\n",
    "        p = p + 1\n",
    "    \n",
    "    print()\n",
    "    i = i + 1"
   ]
  },
  {
   "cell_type": "code",
   "execution_count": 13,
   "metadata": {},
   "outputs": [
    {
     "name": "stdout",
     "output_type": "stream",
     "text": [
      "* \n",
      " * * \n",
      "  * * * \n",
      "   * * * * \n",
      "    * * * * * \n",
      "     * * * * * * \n",
      "    * * * * * \n",
      "   * * * * \n",
      "  * * * \n",
      " * * \n",
      "* \n"
     ]
    }
   ],
   "source": [
    "n = int(input())\n",
    "m = n // 2 + 1\n",
    "i = 1\n",
    "\n",
    "while i <= m:\n",
    "    sp = 1\n",
    "    while sp < i:\n",
    "        print(\" \", end = \"\")\n",
    "        sp+=1\n",
    "        \n",
    "    j = i\n",
    "    c = 1\n",
    "    while j >= i and c <= i:\n",
    "        print(\"* \",end = \"\")\n",
    "        j+=2\n",
    "        c+=1\n",
    "        \n",
    "    print()\n",
    "    i+=1\n",
    "   \n",
    "i = m - 1   \n",
    "while i >= 1: \n",
    "    sp = 1\n",
    "    while sp < i:\n",
    "            print(\" \", end = \"\")\n",
    "            sp+=1\n",
    "            \n",
    "    j = i\n",
    "    c = 1\n",
    "    while j >= 1 and c <= i:\n",
    "        print(\"* \",end = \"\")\n",
    "        j+=2\n",
    "        c+=1\n",
    "        \n",
    "    print()\n",
    "    i-=1"
   ]
  },
  {
   "cell_type": "code",
   "execution_count": null,
   "metadata": {},
   "outputs": [],
   "source": []
  }
 ],
 "metadata": {
  "interpreter": {
   "hash": "abcb0c5461076a4dd09cfc161e812ddf7e31459b36ea35c5b4c2030ec15799b2"
  },
  "kernelspec": {
   "display_name": "Python 3.10.1 64-bit",
   "language": "python",
   "name": "python3"
  },
  "language_info": {
   "codemirror_mode": {
    "name": "ipython",
    "version": 3
   },
   "file_extension": ".py",
   "mimetype": "text/x-python",
   "name": "python",
   "nbconvert_exporter": "python",
   "pygments_lexer": "ipython3",
   "version": "3.10.1"
  },
  "orig_nbformat": 4
 },
 "nbformat": 4,
 "nbformat_minor": 2
}
