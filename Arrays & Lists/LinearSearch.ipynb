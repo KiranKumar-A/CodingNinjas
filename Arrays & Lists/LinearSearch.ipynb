{
 "cells": [
  {
   "cell_type": "markdown",
   "metadata": {},
   "source": [
    "##### Linear Search"
   ]
  },
  {
   "cell_type": "code",
   "execution_count": 1,
   "metadata": {},
   "outputs": [
    {
     "ename": "ValueError",
     "evalue": "invalid literal for int() with base 10: ''",
     "output_type": "error",
     "traceback": [
      "\u001b[1;31m---------------------------------------------------------------------------\u001b[0m",
      "\u001b[1;31mValueError\u001b[0m                                Traceback (most recent call last)",
      "\u001b[1;32mC:\\Users\\KUMARA~1\\AppData\\Local\\Temp/ipykernel_1628/3084173645.py\u001b[0m in \u001b[0;36m<module>\u001b[1;34m\u001b[0m\n\u001b[1;32m----> 1\u001b[1;33m \u001b[0mn\u001b[0m \u001b[1;33m=\u001b[0m \u001b[0mint\u001b[0m\u001b[1;33m(\u001b[0m\u001b[0minput\u001b[0m\u001b[1;33m(\u001b[0m\u001b[1;33m)\u001b[0m\u001b[1;33m)\u001b[0m\u001b[1;33m\u001b[0m\u001b[1;33m\u001b[0m\u001b[0m\n\u001b[0m\u001b[0;32m      2\u001b[0m \u001b[1;33m\u001b[0m\u001b[0m\n\u001b[0;32m      3\u001b[0m \u001b[0mli\u001b[0m \u001b[1;33m=\u001b[0m \u001b[1;33m[\u001b[0m\u001b[0mint\u001b[0m\u001b[1;33m(\u001b[0m\u001b[0mx\u001b[0m\u001b[1;33m)\u001b[0m \u001b[1;32mfor\u001b[0m \u001b[0mx\u001b[0m \u001b[1;32min\u001b[0m \u001b[0minput\u001b[0m\u001b[1;33m(\u001b[0m\u001b[1;33m)\u001b[0m\u001b[1;33m.\u001b[0m\u001b[0msplit\u001b[0m\u001b[1;33m(\u001b[0m\u001b[1;33m)\u001b[0m\u001b[1;33m]\u001b[0m\u001b[1;33m\u001b[0m\u001b[1;33m\u001b[0m\u001b[0m\n",
      "\u001b[1;31mValueError\u001b[0m: invalid literal for int() with base 10: ''"
     ]
    }
   ],
   "source": [
    "n = int(input())\n",
    "\n",
    "li = [int(x) for x in input().split()]"
   ]
  },
  {
   "cell_type": "code",
   "execution_count": null,
   "metadata": {},
   "outputs": [
    {
     "data": {
      "text/plain": [
       "[2, 4, 7, 9, 10, 13]"
      ]
     },
     "execution_count": 4,
     "metadata": {},
     "output_type": "execute_result"
    }
   ],
   "source": [
    "li"
   ]
  },
  {
   "cell_type": "code",
   "execution_count": null,
   "metadata": {},
   "outputs": [
    {
     "data": {
      "text/plain": [
       "10"
      ]
     },
     "execution_count": 15,
     "metadata": {},
     "output_type": "execute_result"
    }
   ],
   "source": [
    "ele = int(input())\n",
    "ele"
   ]
  },
  {
   "cell_type": "code",
   "execution_count": null,
   "metadata": {},
   "outputs": [
    {
     "name": "stdout",
     "output_type": "stream",
     "text": [
      "4\n"
     ]
    }
   ],
   "source": [
    "isFound = False\n",
    "for i in range(len(li)):\n",
    "    if li[i] == ele:\n",
    "        print(i)\n",
    "        isFound = True\n",
    "        break\n",
    "if isFound == False:\n",
    "    print(-1)"
   ]
  },
  {
   "cell_type": "code",
   "execution_count": null,
   "metadata": {},
   "outputs": [
    {
     "name": "stdout",
     "output_type": "stream",
     "text": [
      "14\n"
     ]
    }
   ],
   "source": [
    "ele2 = int(input())\n",
    "print(ele2)"
   ]
  },
  {
   "cell_type": "code",
   "execution_count": null,
   "metadata": {},
   "outputs": [
    {
     "name": "stdout",
     "output_type": "stream",
     "text": [
      "-1\n"
     ]
    }
   ],
   "source": [
    "isFound = False\n",
    "for i in range(len(li)):\n",
    "    if li[i] == ele2:\n",
    "        print(i)\n",
    "        isFound = True\n",
    "        break\n",
    "if isFound == False:\n",
    "    print(-1)"
   ]
  },
  {
   "cell_type": "markdown",
   "metadata": {},
   "source": [
    "##### Linear Search Through Functions:"
   ]
  },
  {
   "cell_type": "code",
   "execution_count": null,
   "metadata": {},
   "outputs": [
    {
     "name": "stdout",
     "output_type": "stream",
     "text": [
      "4\n"
     ]
    }
   ],
   "source": [
    "def linearSearch(li,ele):\n",
    "    #li is list and ele is element to be searched for\n",
    "    for i in range(len(li)):\n",
    "        if li[i] == ele:\n",
    "            return i\n",
    "    return -1\n",
    "\n",
    "li = [1, 2, 3, 4, 6, 5]\n",
    "\n",
    "index = linearSearch(li,6)\n",
    "print(index)"
   ]
  },
  {
   "cell_type": "code",
   "execution_count": null,
   "metadata": {},
   "outputs": [
    {
     "name": "stdout",
     "output_type": "stream",
     "text": [
      "[1, 2, 4, 4, 5]\n",
      "[1, 2, 4, 4, 5]\n"
     ]
    }
   ],
   "source": [
    "## References working in variable assignments (Mutable concept)\n",
    "\n",
    "li = [1, 2, 3, 4, 5]\n",
    "\n",
    "li2 = li\n",
    "li2[2] = 4\n",
    "print(li)\n",
    "print(li2)"
   ]
  },
  {
   "cell_type": "code",
   "execution_count": null,
   "metadata": {},
   "outputs": [
    {
     "name": "stdout",
     "output_type": "stream",
     "text": [
      "[1, 2, 3, 4]\n",
      "[3, 3, 1]\n"
     ]
    }
   ],
   "source": [
    "## References working in variable assignments (Immutable concept)\n",
    "li = [1, 2, 3, 4]\n",
    "\n",
    "li2 = li\n",
    "li2 = [3, 3, 4]\n",
    "\n",
    "li2[2] = 1\n",
    "\n",
    "print(li)\n",
    "print(li2)\n"
   ]
  },
  {
   "cell_type": "markdown",
   "metadata": {},
   "source": [
    "##### Passing Variables through Functions"
   ]
  },
  {
   "cell_type": "code",
   "execution_count": null,
   "metadata": {},
   "outputs": [
    {
     "name": "stdout",
     "output_type": "stream",
     "text": [
      "2\n"
     ]
    }
   ],
   "source": [
    "def increment(a):\n",
    "    a = a + 2\n",
    "    return\n",
    "\n",
    "a = 2\n",
    "increment(a)\n",
    "print(a)"
   ]
  },
  {
   "cell_type": "code",
   "execution_count": null,
   "metadata": {},
   "outputs": [
    {
     "name": "stdout",
     "output_type": "stream",
     "text": [
      "2\n"
     ]
    }
   ],
   "source": [
    "def increment(a):\n",
    "    a = a + 2\n",
    "    return a\n",
    "\n",
    "a = 2\n",
    "increment(a)\n",
    "print(a)"
   ]
  },
  {
   "cell_type": "code",
   "execution_count": null,
   "metadata": {},
   "outputs": [
    {
     "name": "stdout",
     "output_type": "stream",
     "text": [
      "4\n"
     ]
    }
   ],
   "source": [
    "def increment(a):\n",
    "    a = a + 2\n",
    "    return a\n",
    "\n",
    "a = 2\n",
    "a = increment(a)\n",
    "print(a)"
   ]
  },
  {
   "cell_type": "markdown",
   "metadata": {},
   "source": [
    "##### Passing list through Functions"
   ]
  },
  {
   "cell_type": "code",
   "execution_count": null,
   "metadata": {},
   "outputs": [
    {
     "name": "stdout",
     "output_type": "stream",
     "text": [
      "[3, 2, 3, 4]\n"
     ]
    }
   ],
   "source": [
    "def increment(li):\n",
    "    li[0] = li[0] + 2\n",
    "    return li\n",
    "\n",
    "\n",
    "li = [1, 2, 3, 4]\n",
    "increment(li)\n",
    "print(li)"
   ]
  },
  {
   "cell_type": "code",
   "execution_count": null,
   "metadata": {},
   "outputs": [
    {
     "name": "stdout",
     "output_type": "stream",
     "text": [
      "[1, 2, 3, 4]\n"
     ]
    }
   ],
   "source": [
    "def increment(li):\n",
    "    #li[0] = li[0] + 2\n",
    "    li = [3, 3, 4]\n",
    "    return li\n",
    "\n",
    "\n",
    "li = [1, 2, 3, 4]\n",
    "increment(li)\n",
    "print(li)"
   ]
  },
  {
   "cell_type": "code",
   "execution_count": null,
   "metadata": {},
   "outputs": [
    {
     "name": "stdout",
     "output_type": "stream",
     "text": [
      "[3, 3, 4]\n"
     ]
    }
   ],
   "source": [
    "def increment(li):\n",
    "    #li[0] = li[0] + 2\n",
    "    li = [3, 3, 4]\n",
    "    return li\n",
    "\n",
    "\n",
    "li = [1, 2, 3, 4]\n",
    "li = increment(li)\n",
    "print(li)"
   ]
  },
  {
   "cell_type": "code",
   "execution_count": null,
   "metadata": {},
   "outputs": [
    {
     "name": "stdout",
     "output_type": "stream",
     "text": [
      "[1, 4, 3, 4, 5]\n"
     ]
    }
   ],
   "source": [
    "## Assignment \n",
    "def change(li):\n",
    "    li[1] = li[1] + 2\n",
    "\n",
    "li = [1, 2, 3, 4, 5]\n",
    "change(li)\n",
    "print(li)"
   ]
  },
  {
   "cell_type": "code",
   "execution_count": null,
   "metadata": {},
   "outputs": [
    {
     "name": "stdout",
     "output_type": "stream",
     "text": [
      "[1, 4, 3, 4, 5]\n"
     ]
    }
   ],
   "source": [
    "def change(li):\n",
    "    li[1] = li[1] + 2\n",
    "    li = [3, 3, 3, 4, 5]\n",
    "\n",
    "li = [1, 2, 3, 4, 5]\n",
    "change(li)\n",
    "print(li)"
   ]
  },
  {
   "cell_type": "markdown",
   "metadata": {},
   "source": [
    "##### Reverse List"
   ]
  },
  {
   "cell_type": "code",
   "execution_count": null,
   "metadata": {},
   "outputs": [
    {
     "name": "stdout",
     "output_type": "stream",
     "text": [
      "[8, 7, 6, 5, 4, 3, 2, 1]\n"
     ]
    }
   ],
   "source": [
    "def reverse_list(li):\n",
    "    length = len(li)\n",
    "    for i in range(length//2):\n",
    "        li[i],li[length - i -1] = li[length - i -1], li[i]\n",
    "        \n",
    "\n",
    "\n",
    "li = [1, 2, 3, 4, 5, 6, 7, 8]\n",
    "reverse_list(li)\n",
    "print(li)"
   ]
  },
  {
   "cell_type": "code",
   "execution_count": null,
   "metadata": {},
   "outputs": [
    {
     "name": "stdout",
     "output_type": "stream",
     "text": [
      "[6, 5, 4, 3, 2, 1]\n"
     ]
    }
   ],
   "source": [
    "def reverse_list2(li):\n",
    "    length = len(li)\n",
    "    for i in range(length // 2):\n",
    "        li[i],li[-i-1] = li [-i-1], li[i]\n",
    "        \n",
    "li = [1, 2, 3, 4, 5, 6]\n",
    "reverse_list2(li)\n",
    "print(li)"
   ]
  },
  {
   "cell_type": "code",
   "execution_count": null,
   "metadata": {},
   "outputs": [
    {
     "data": {
      "text/plain": [
       "[6, 5, 4, 3, 2, 1]"
      ]
     },
     "execution_count": 56,
     "metadata": {},
     "output_type": "execute_result"
    }
   ],
   "source": [
    "li"
   ]
  },
  {
   "cell_type": "code",
   "execution_count": null,
   "metadata": {},
   "outputs": [
    {
     "data": {
      "text/plain": [
       "[3, 4]"
      ]
     },
     "execution_count": 57,
     "metadata": {},
     "output_type": "execute_result"
    }
   ],
   "source": [
    "li[3:1:-1]"
   ]
  },
  {
   "cell_type": "code",
   "execution_count": null,
   "metadata": {},
   "outputs": [
    {
     "data": {
      "text/plain": [
       "[1, 2, 3, 4, 5, 6]"
      ]
     },
     "execution_count": 58,
     "metadata": {},
     "output_type": "execute_result"
    }
   ],
   "source": [
    "li[-1::-1]"
   ]
  },
  {
   "cell_type": "code",
   "execution_count": null,
   "metadata": {},
   "outputs": [
    {
     "data": {
      "text/plain": [
       "[1, 2, 3, 4]"
      ]
     },
     "execution_count": 59,
     "metadata": {},
     "output_type": "execute_result"
    }
   ],
   "source": [
    "li[:1:-1]"
   ]
  },
  {
   "cell_type": "code",
   "execution_count": null,
   "metadata": {},
   "outputs": [
    {
     "data": {
      "text/plain": [
       "[1, 2, 3, 4, 5, 6]"
      ]
     },
     "execution_count": 60,
     "metadata": {},
     "output_type": "execute_result"
    }
   ],
   "source": [
    "li[::-1]"
   ]
  },
  {
   "cell_type": "code",
   "execution_count": null,
   "metadata": {},
   "outputs": [
    {
     "name": "stdout",
     "output_type": "stream",
     "text": [
      "4 5 9 8 "
     ]
    }
   ],
   "source": [
    "def rev(li):\n",
    "    l = len(li)\n",
    "    if l%2 == 0:\n",
    "        for i in range(0,l,2):\n",
    "            li[i],li[i+1] = li[i+1],li[i]\n",
    "    else:\n",
    "        for i in range(0,l-1,2):\n",
    "            li[i],li[i+1] = li[i+1],li[i]\n",
    "    \n",
    "    for i in li:\n",
    "        print(i, end=\" \")\n",
    "n = int(input())\n",
    "li = [int(x) for x in input().split()[:n]]\n",
    "rev(li)        \n",
    "        \n",
    "            "
   ]
  },
  {
   "cell_type": "code",
   "execution_count": null,
   "metadata": {},
   "outputs": [],
   "source": [
    "''' Time complexity: O(N) Space complexity: O(1) where N is the length of the input string ''' \n",
    "from sys import stdin \n",
    "def isPalindrome(string) : \n",
    "    left = 0 \n",
    "    right = len(string) - 1 \n",
    "    \n",
    "    while left < right : \n",
    "        if string[left] != string[right] : \n",
    "            return False \n",
    "        left += 1 \n",
    "        right -= 1 \n",
    "        \n",
    "    return True \n",
    "\n",
    "#main \n",
    "string = stdin.readline().strip(); \n",
    "ans = isPalindrome(string) \n",
    "if ans : \n",
    "    print('true') \n",
    "else : \n",
    "    print('false')"
   ]
  },
  {
   "cell_type": "code",
   "execution_count": null,
   "metadata": {},
   "outputs": [],
   "source": [
    "from sys import stdin \n",
    "def sumOfTwoArrays(arr1, n, arr2, m, output) : \n",
    "    i = n - 1 \n",
    "    j = m - 1 \n",
    "    carry = 0 \n",
    "    k = max(n, m) #k is the current index output array \n",
    "    while i >= 0 and j >= 0 : \n",
    "        SUM = arr1[i] + arr2[j] + carry \n",
    "        output[k] = SUM % 10 \n",
    "        carry = SUM // 10 \n",
    "        i -= 1 \n",
    "        j -= 1 \n",
    "        k -= 1 \n",
    "        \n",
    "    while i >= 0 : \n",
    "        SUM = arr1[i] + carry \n",
    "        output[k] = SUM % 10 \n",
    "        carry = SUM // 10 \n",
    "            \n",
    "        i -= 1 \n",
    "        k -= 1 \n",
    "            \n",
    "    while j >= 0 : \n",
    "        SUM = arr2[j] + carry \n",
    "        output[k] = SUM % 10 \n",
    "        carry = SUM // 10 \n",
    "        \n",
    "        j -= 1 \n",
    "        k -= 1 \n",
    "        \n",
    "    output[0] = carry \n",
    "        \n",
    "def takeInput() : \n",
    "    n = int(stdin.readline().rstrip()) \n",
    "    if n == 0 : \n",
    "        return list(), 0 \n",
    "    arr = list(map(int, stdin.readline().rstrip().split(\" \"))) \n",
    "    return arr, n \n",
    "\n",
    "def printList(arr, n) : \n",
    "    for i in range(n) : \n",
    "        print(arr[i], end = \" \") \n",
    "        \n",
    "    print() \n",
    "        \n",
    "#main \n",
    "t = int(stdin.readline().rstrip()) \n",
    "while t > 0 : \n",
    "    arr1, n = takeInput() \n",
    "    arr2, m = takeInput() \n",
    "    outputSize = (1 + max(n, m)) \n",
    "    output = outputSize * [0] \n",
    "    sumOfTwoArrays(arr1, n, arr2, m, output) \n",
    "    printList(output, outputSize) \n",
    "    t -= 1"
   ]
  },
  {
   "cell_type": "code",
   "execution_count": null,
   "metadata": {},
   "outputs": [],
   "source": [
    "''' Time complexity: O(N + M) Space complexity: O(1) where N and M are the lengths of the two input strings ''' \n",
    "from sys import stdin \n",
    "def isPermutation(string1, string2) : \n",
    "    if len(string1) != len(string2) : \n",
    "        return False \n",
    "    \n",
    "    frquency = [0] * 256 \n",
    "    \n",
    "    for i in range(len(string1)) : \n",
    "        ch = ord(string1[i]) \n",
    "        frquency[ch] += 1 \n",
    "        \n",
    "    for i in range(len(string2)) : \n",
    "        ch = ord(string2[i]) \n",
    "        frquency[ch] -= 1 \n",
    "        \n",
    "    for i in range(256) : \n",
    "        if frquency[i] != 0 : \n",
    "            return False \n",
    "        \n",
    "    return True \n",
    "\n",
    "#main \n",
    "string1 = stdin.readline().strip(); \n",
    "string2 = stdin.readline().strip(); \n",
    "\n",
    "ans = isPermutation(string1, string2) \n",
    "if ans : \n",
    "    print('true') \n",
    "else : \n",
    "    print('false')"
   ]
  }
 ],
 "metadata": {
  "kernelspec": {
   "display_name": "Python 3.9.7 ('base')",
   "language": "python",
   "name": "python3"
  },
  "language_info": {
   "codemirror_mode": {
    "name": "ipython",
    "version": 3
   },
   "file_extension": ".py",
   "mimetype": "text/x-python",
   "name": "python",
   "nbconvert_exporter": "python",
   "pygments_lexer": "ipython3",
   "version": "3.9.7"
  },
  "orig_nbformat": 4,
  "vscode": {
   "interpreter": {
    "hash": "dd5e5b91a53bff0703b2d9f48b575e56a5c675a9f131ff48d0cd83c5bd3d4ca6"
   }
  }
 },
 "nbformat": 4,
 "nbformat_minor": 2
}
